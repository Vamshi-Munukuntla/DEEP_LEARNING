{
 "cells": [
  {
   "cell_type": "code",
   "execution_count": 1,
   "id": "5cfd8a15",
   "metadata": {},
   "outputs": [],
   "source": [
    "# import libraries\n",
    "import numpy as np\n",
    "import torch"
   ]
  },
  {
   "cell_type": "markdown",
   "id": "138f59a3",
   "metadata": {},
   "source": [
    "# Using Numpy"
   ]
  },
  {
   "cell_type": "code",
   "execution_count": 16,
   "id": "6320fc69",
   "metadata": {},
   "outputs": [
    {
     "name": "stdout",
     "output_type": "stream",
     "text": [
      "NumPy Array: [[1 2 3 4]]\n",
      "\n",
      "Transposed Array: [[1]\n",
      " [2]\n",
      " [3]\n",
      " [4]]\n",
      "\n",
      "Transposing the Transpose: [[1 2 3 4]]\n"
     ]
    }
   ],
   "source": [
    "# Create a Vector\n",
    "nv = np.array([[1,2,3,4]])\n",
    "print('NumPy Array:',nv)\n",
    "print('')\n",
    "\n",
    "# Transpose the vector\n",
    "print('Transposed Array:',nv.T)\n",
    "print('')\n",
    "\n",
    "# Transpose the Transpose! \n",
    "nv_T_T = (nv.T).T\n",
    "print('Transposing the Transpose:', nv_T_T)"
   ]
  },
  {
   "cell_type": "code",
   "execution_count": 23,
   "id": "17afa9b2",
   "metadata": {},
   "outputs": [
    {
     "name": "stdout",
     "output_type": "stream",
     "text": [
      "[[1 2 3 4]\n",
      " [5 6 7 8]]\n",
      "\n",
      "[[1 5]\n",
      " [2 6]\n",
      " [3 7]\n",
      " [4 8]]\n",
      "\n",
      "[[1 2 3 4]\n",
      " [5 6 7 8]]\n"
     ]
    }
   ],
   "source": [
    "# repeat for a matrix\n",
    "\n",
    "nM = np.array([[1,2,3,4],\n",
    "               [5,6,7,8]])\n",
    "print(nM)\n",
    "print('')\n",
    "\n",
    "# transpose it\n",
    "print(nM.T), print('')\n",
    "\n",
    "# transpose the transpose\n",
    "nM_T_T = (nM.T).T\n",
    "print(nM_T_T)"
   ]
  },
  {
   "cell_type": "markdown",
   "id": "bb03ff5a",
   "metadata": {},
   "source": [
    "# Using PYTORCH"
   ]
  },
  {
   "cell_type": "code",
   "execution_count": 27,
   "id": "7fcf69d1",
   "metadata": {},
   "outputs": [
    {
     "name": "stdout",
     "output_type": "stream",
     "text": [
      "tensor([[1, 2, 3, 4]])\n",
      " \n",
      "tensor([[1],\n",
      "        [2],\n",
      "        [3],\n",
      "        [4]])\n",
      "\n",
      "tensor([[1, 2, 3, 4]])\n"
     ]
    }
   ],
   "source": [
    "# create a vector\n",
    "tv = torch.tensor([[1,2,3,4]])\n",
    "print(tv)\n",
    "print(' ')\n",
    "\n",
    "# transpose it\n",
    "print(tv.T)\n",
    "print('')\n",
    "\n",
    "# transpose the transpose\n",
    "tv_T = (tv.T).T\n",
    "print(tv_T)"
   ]
  },
  {
   "cell_type": "code",
   "execution_count": 28,
   "id": "87aae2da",
   "metadata": {},
   "outputs": [
    {
     "name": "stdout",
     "output_type": "stream",
     "text": [
      "tensor([[1, 2, 3, 4],\n",
      "        [5, 6, 7, 8]])\n",
      " \n",
      "tensor([[1, 5],\n",
      "        [2, 6],\n",
      "        [3, 7],\n",
      "        [4, 8]])\n",
      " \n",
      "tensor([[1, 2, 3, 4],\n",
      "        [5, 6, 7, 8]])\n"
     ]
    }
   ],
   "source": [
    "# repeat for a matrix\n",
    "tM = torch.tensor([ [1,2,3,4],[5,6,7,8] ])\n",
    "print(tM), print(' ')\n",
    "\n",
    "# transpose it\n",
    "print(tM.T), print(' ')\n",
    "\n",
    "# transpose the transpose!\n",
    "tMT = tM.T\n",
    "print(tMT.T)"
   ]
  },
  {
   "cell_type": "code",
   "execution_count": 31,
   "id": "67935ef4",
   "metadata": {},
   "outputs": [
    {
     "name": "stdout",
     "output_type": "stream",
     "text": [
      "Variable nv is of type <class 'numpy.ndarray'>\n",
      "Variable nv is of type <class 'numpy.ndarray'>\n",
      "Variable nv is of type <class 'torch.Tensor'>\n",
      "Variable nv is of type <class 'torch.Tensor'>\n"
     ]
    }
   ],
   "source": [
    "# examine the data types\n",
    "\n",
    "print(f'Variable nv is of type {type(nv)}')\n",
    "print(f'Variable nv is of type {type(nM)}')\n",
    "print(f'Variable nv is of type {type(tv)}')\n",
    "print(f'Variable nv is of type {type(tM)}')"
   ]
  },
  {
   "cell_type": "code",
   "execution_count": null,
   "id": "2ef04a48",
   "metadata": {},
   "outputs": [],
   "source": []
  },
  {
   "cell_type": "code",
   "execution_count": null,
   "id": "a43bd35b",
   "metadata": {},
   "outputs": [],
   "source": []
  },
  {
   "cell_type": "code",
   "execution_count": null,
   "id": "7fb8bd20",
   "metadata": {},
   "outputs": [],
   "source": []
  },
  {
   "cell_type": "code",
   "execution_count": null,
   "id": "d66db36c",
   "metadata": {},
   "outputs": [],
   "source": []
  },
  {
   "cell_type": "code",
   "execution_count": null,
   "id": "b90c2a1e",
   "metadata": {},
   "outputs": [],
   "source": []
  },
  {
   "cell_type": "code",
   "execution_count": null,
   "id": "38e920e7",
   "metadata": {},
   "outputs": [],
   "source": []
  },
  {
   "cell_type": "code",
   "execution_count": null,
   "id": "7ccc1504",
   "metadata": {},
   "outputs": [],
   "source": []
  },
  {
   "cell_type": "code",
   "execution_count": null,
   "id": "db186ff0",
   "metadata": {},
   "outputs": [],
   "source": []
  },
  {
   "cell_type": "code",
   "execution_count": null,
   "id": "a13ed99b",
   "metadata": {},
   "outputs": [],
   "source": []
  }
 ],
 "metadata": {
  "kernelspec": {
   "display_name": "Python 3 (ipykernel)",
   "language": "python",
   "name": "python3"
  },
  "language_info": {
   "codemirror_mode": {
    "name": "ipython",
    "version": 3
   },
   "file_extension": ".py",
   "mimetype": "text/x-python",
   "name": "python",
   "nbconvert_exporter": "python",
   "pygments_lexer": "ipython3",
   "version": "3.10.5"
  }
 },
 "nbformat": 4,
 "nbformat_minor": 5
}
